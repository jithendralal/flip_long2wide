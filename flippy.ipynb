{
 "cells": [
  {
   "cell_type": "markdown",
   "metadata": {},
   "source": [
    "<h1 class=\"alert alert-block alert-info\">Flip Long to Wide</h1>"
   ]
  },
  {
   "cell_type": "markdown",
   "metadata": {},
   "source": [
    "<h1 class=\"alert alert-block alert-info\">1. Upload the file.</h1>\n",
    "How to upload:<br>\n",
    "     1.1. Please go to the tab that shows jupyter files in this browser.<br>\n",
    "     1.2. Select <b>uploads</b> folder there.<br>\n",
    "     1.3. Use the <button>Upload</button> button there on the top right area, to upload your file.<br>"
   ]
  },
  {
   "cell_type": "markdown",
   "metadata": {},
   "source": [
    "<h1 class=\"alert alert-block alert-info\">2. Run the cell below and select an analysis type by clicking its button</h1>"
   ]
  },
  {
   "cell_type": "code",
   "execution_count": 1,
   "metadata": {
    "scrolled": true
   },
   "outputs": [
    {
     "name": "stdout",
     "output_type": "stream",
     "text": [
      ""
     ]
    },
    {
     "data": {
      "application/vnd.jupyter.widget-view+json": {
       "model_id": "770753d5d26c4421a062de97aecc9bef",
       "version_major": 2,
       "version_minor": 0
      },
      "text/plain": [
       "HTML(value=\"<h3><font color='teal'>Select Analysis Type:</h3>\")"
      ]
     },
     "metadata": {},
     "output_type": "display_data"
    },
    {
     "data": {
      "application/vnd.jupyter.widget-view+json": {
       "model_id": "6867b72ed0024a1884d581ec4014035a",
       "version_major": 2,
       "version_minor": 0
      },
      "text/plain": [
       "ToggleButtons(options=('Bruker Amino Acids', 'Waters Tryptophan', 'Waters Bile Acids', 'Waters Conversion'), v…"
      ]
     },
     "metadata": {},
     "output_type": "display_data"
    }
   ],
   "source": [
    "!jupyter nbextension enable --py widgetsnbextension\n",
    "from main import main\n",
    "from controls import analysis_types, analysis_type_label, show_message\n",
    "analysis_types = analysis_types()\n",
    "label = analysis_type_label()\n",
    "display(label, analysis_types)"
   ]
  },
  {
   "cell_type": "markdown",
   "metadata": {},
   "source": [
    "<h1 class=\"alert alert-block alert-info\">3. Run the cell below to flip.</h1>"
   ]
  },
  {
   "cell_type": "code",
   "execution_count": 5,
   "metadata": {},
   "outputs": [
    {
     "data": {
      "application/vnd.jupyter.widget-view+json": {
       "model_id": "c5c066012dbe4c27b1a8b5eb68f9a8c6",
       "version_major": 2,
       "version_minor": 0
      },
      "text/plain": [
       "HTML(value=\"<h3><font color='red'>Processing...</h3>\")"
      ]
     },
     "metadata": {},
     "output_type": "display_data"
    },
    {
     "data": {
      "application/vnd.jupyter.widget-view+json": {
       "model_id": "ef49c5ae86f640ebb7ebaaf64ce2a0fb",
       "version_major": 2,
       "version_minor": 0
      },
      "text/plain": [
       "HTML(value=\"<h3><font color='green'>Completed processing.\\nPlease check the uploads folder</h3>\")"
      ]
     },
     "metadata": {},
     "output_type": "display_data"
    }
   ],
   "source": [
    "analysis_type = analysis_types.value\n",
    "m = show_message(\"Processing...\", \"info\")\n",
    "display(m)\n",
    "result, kind = main()\n",
    "m.layout.display = 'none'\n",
    "display(show_message(result, kind))"
   ]
  },
  {
   "cell_type": "markdown",
   "metadata": {},
   "source": [
    "<h1 class=\"alert alert-block alert-info\">4. Download the flipped file.</h1>\n",
    "How to download:<br>\n",
    "     4.1. Please go to the tab that shows jupyter files in this browser.<br>\n",
    "     4.2. The flipped file appears in the <b>uploads</b> folder.<br>\n",
    "     4.3. Click the checkbox on the left of file to select it.<br>\n",
    "     4.4. Use the <button>Download</button> button there on the top left area, to download the file.<br>"
   ]
  }
 ],
 "metadata": {
  "kernelspec": {
   "display_name": "Python 3",
   "language": "python",
   "name": "python3"
  },
  "language_info": {
   "codemirror_mode": {
    "name": "ipython",
    "version": 3
   },
   "file_extension": ".py",
   "mimetype": "text/x-python",
   "name": "python",
   "nbconvert_exporter": "python",
   "pygments_lexer": "ipython3",
   "version": "3.8.10"
  }
 },
 "nbformat": 4,
 "nbformat_minor": 4
}
