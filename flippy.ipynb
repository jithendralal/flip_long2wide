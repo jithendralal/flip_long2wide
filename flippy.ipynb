{
 "cells": [
  {
   "cell_type": "markdown",
   "metadata": {},
   "source": [
    "<div class=\"alert alert-block alert-info\">\n",
    "<font color=\"#666\">\n",
    "<h1>Flip Long to Wide</h1>\n",
    "<h1>1. Upload the file.</h1>\n",
    "How to upload:<br>\n",
    "     1. Please go to the tab that shows jupyter files in this browser.<br>\n",
    "     2. Select <b>uploads</b> folder there.<br>\n",
    "     3. Use the <button>Upload</button> button there on the top right area, to upload your file.<br>\n",
    "<h1>2. Run the cell below and select an analysis type by clicking its button.</h1>\n",
    "</font>\n",
    "</div>"
   ]
  },
  {
   "cell_type": "code",
   "execution_count": 1,
   "metadata": {
    "scrolled": true
   },
   "outputs": [
    {
     "name": "stdout",
     "output_type": "stream",
     "text": [
      "Enabling notebook extension jupyter-js-widgets/extension...\r\n",
      "      - Validating: \u001b[32mOK\u001b[0m\r\n"
     ]
    },
    {
     "data": {
      "application/vnd.jupyter.widget-view+json": {
       "model_id": "02166eee78d048f7acf2b311e717746f",
       "version_major": 2,
       "version_minor": 0
      },
      "text/plain": [
       "HTML(value=\"<h3><font color='teal'>Select Analysis Type:</h3>\")"
      ]
     },
     "metadata": {},
     "output_type": "display_data"
    },
    {
     "data": {
      "application/vnd.jupyter.widget-view+json": {
       "model_id": "d8559e99e16e4150bccd969eee494f58",
       "version_major": 2,
       "version_minor": 0
      },
      "text/plain": [
       "ToggleButtons(options=('Bruker Amino Acids', 'Waters Tryptophan', 'Waters Bile Acids', 'Waters Conversion'), v…"
      ]
     },
     "metadata": {},
     "output_type": "display_data"
    }
   ],
   "source": [
    "!jupyter nbextension enable --py widgetsnbextension\n",
    "from main import main\n",
    "from controls import analysis_types, analysis_type_label, show_message\n",
    "analysis_types = analysis_types()\n",
    "label = analysis_type_label()\n",
    "display(label, analysis_types)"
   ]
  },
  {
   "cell_type": "markdown",
   "metadata": {},
   "source": [
    "<h1 class=\"alert alert-block alert-info\"><font color=\"#666\">3. Run the cell below to flip.</font></h1>"
   ]
  },
  {
   "cell_type": "code",
   "execution_count": 2,
   "metadata": {},
   "outputs": [
    {
     "data": {
      "application/vnd.jupyter.widget-view+json": {
       "model_id": "ca9117ec387b4125a57785ad15d8f58d",
       "version_major": 2,
       "version_minor": 0
      },
      "text/plain": [
       "HTML(value=\"<h3><font color='red'>Processing...</h3>\")"
      ]
     },
     "metadata": {},
     "output_type": "display_data"
    },
    {
     "data": {
      "application/vnd.jupyter.widget-view+json": {
       "model_id": "df3c00a4189a4f8ab28326cc7442f907",
       "version_major": 2,
       "version_minor": 0
      },
      "text/plain": [
       "HTML(value=\"<h3><font color='green'>Completed processing.\\nPlease check the uploads folder</h3>\")"
      ]
     },
     "metadata": {},
     "output_type": "display_data"
    }
   ],
   "source": [
    "analysis_type = analysis_types.value\n",
    "m = show_message(\"Processing...\", \"info\")\n",
    "display(m)\n",
    "result, kind = main(analysis_type)\n",
    "m.layout.display = 'none'\n",
    "message = \"analysis_type\"\n",
    "display(show_message(result, kind))"
   ]
  },
  {
   "cell_type": "markdown",
   "metadata": {},
   "source": [
    "<div class=\"alert alert-block alert-info\">\n",
    "    <font color=\"#666\">\n",
    "        <h1>4. Download the flipped file.</h1>\n",
    "        How to download:<br>\n",
    "             1. Please go to the tab that shows jupyter files in this browser.<br>\n",
    "             2. The flipped file appears in the <b>uploads</b> folder.<br>\n",
    "             3. Click the checkbox on the left of file to select it.<br>\n",
    "             4. Use the <button>Download</button> button there on the top left area, to download the file.<br>\n",
    "        <h1>5. Delete all your files in uploads folder.</h1>\n",
    "        How to delete:<br>\n",
    "             1. Please go to the tab that shows jupyter files in this browser.<br>\n",
    "             2. Your files are in the <b>uploads</b> folder.<br>\n",
    "             3. Click the checkboxes on the left of files or select all.<br>\n",
    "             4. Use the <font color=\"red\">Red Bin</font> there on the top left area, to delete.<br>\n",
    "    </font>\n",
    "</div>"
   ]
  }
 ],
 "metadata": {
  "kernelspec": {
   "display_name": "Python 3",
   "language": "python",
   "name": "python3"
  },
  "language_info": {
   "codemirror_mode": {
    "name": "ipython",
    "version": 3
   },
   "file_extension": ".py",
   "mimetype": "text/x-python",
   "name": "python",
   "nbconvert_exporter": "python",
   "pygments_lexer": "ipython3",
   "version": "3.8.10"
  }
 },
 "nbformat": 4,
 "nbformat_minor": 4
}
